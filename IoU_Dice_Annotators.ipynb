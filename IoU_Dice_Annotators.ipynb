{
 "cells": [
  {
   "cell_type": "code",
   "execution_count": null,
   "id": "c6ca6070",
   "metadata": {},
   "outputs": [],
   "source": [
    "import nibabel as nib\n",
    "import numpy as np\n",
    "import glob\n",
    "\n",
    "import itertools\n",
    "from sklearn.metrics import jaccard_score, f1_score"
   ]
  },
  {
   "cell_type": "code",
   "execution_count": null,
   "id": "3153e8e3",
   "metadata": {},
   "outputs": [],
   "source": [
    "batch_root = \"/Users/nicklittlefield/OneDrive - University of Pittsburgh/Dataset_Knee_Bony_Anatomy_Segmentation(Lead_Sakshi)/Batch#2 (same images)_10_Images_for_Level_of_Agreement/\"\n",
    "annotator_dirs = list(glob.iglob(batch_root + \"*\"))\n",
    "num_annotators = len(annotator_dirs)\n",
    "num_annotators"
   ]
  },
  {
   "cell_type": "code",
   "execution_count": null,
   "id": "75e63f06",
   "metadata": {},
   "outputs": [],
   "source": [
    "print(\"Found Annotator Directories:\")\n",
    "for annotator in annotator_dirs:\n",
    "    print(annotator)"
   ]
  },
  {
   "cell_type": "code",
   "execution_count": null,
   "id": "8cac8d16",
   "metadata": {},
   "outputs": [],
   "source": [
    "# Get common files among the annotators\n",
    "import regex as re\n",
    "pid_regex = re.compile(\"9[0-9]{6}\")\n",
    "file_ids = set([pid_regex.findall(file)[0] for file in sorted(list(glob.iglob(annotator_dirs[0] + \"/*.nii.gz\")))])\n",
    "for annotator in annotator_dirs[1:]:\n",
    "    annotator_files = [pid_regex.findall(file)[0] for file in sorted(list(glob.iglob(annotator + \"/*.nii.gz\")))]\n",
    "    file_ids = file_ids.intersection(annotator_files)\n"
   ]
  },
  {
   "cell_type": "code",
   "execution_count": null,
   "id": "11bf53e4",
   "metadata": {},
   "outputs": [],
   "source": [
    "file_ids"
   ]
  },
  {
   "cell_type": "code",
   "execution_count": null,
   "id": "e687a93b",
   "metadata": {},
   "outputs": [],
   "source": [
    "iou_scores= []\n",
    "dice_scores = []\n",
    "annot_pairs = list(itertools.combinations(annotator_dirs, 2))\n",
    "\n",
    "for file in file_ids:\n",
    "    annot_pair_ious = []\n",
    "    annot_pair_dice = []\n",
    "    \n",
    "    for (annot1, annot2) in annot_pairs:\n",
    "        annot_mask1_pth = f\"{annot1}/{file}.nii.gz\"\n",
    "        annot_mask2_pth = f\"{annot2}/{file}.nii.gz\"\n",
    "        \n",
    "        # Load Masks\n",
    "        annot_mask1 = nib.load(annot_mask1_pth).get_fdata()\n",
    "        annot_mask2 = nib.load(annot_mask2_pth).get_fdata()\n",
    "        \n",
    "        # Check to make sure number of channels = 1, if not convert to one channel (middle)\n",
    "        if annot_mask1.shape[2] > 1:\n",
    "            annot_mask1 = annot_mask1[:, :, annot_mask1.shape[2]//2]\n",
    "        \n",
    "        if annot_mask2.shape[2] > 1:\n",
    "            annot_mask2 = annot_mask2[:, :, annot_mask2.shape[2]//2]\n",
    "    \n",
    "        iou = jaccard_score(annot_mask1.flatten(), annot_mask2.flatten(), average=\"macro\")\n",
    "        dice = f1_score(annot_mask1.flatten(), annot_mask2.flatten(), average=\"macro\")\n",
    "        \n",
    "        annot_pair_ious.append(iou)\n",
    "        annot_pair_dice.append(dice)\n",
    "    \n",
    "    iou_scores.append(np.mean(annot_pair_ious))\n",
    "    dice_scores.append(np.mean(annot_pair_dice))\n"
   ]
  },
  {
   "cell_type": "code",
   "execution_count": null,
   "id": "67d4ba4a",
   "metadata": {},
   "outputs": [],
   "source": [
    "np.mean(iou_scores), np.mean(dice_scores)"
   ]
  },
  {
   "cell_type": "code",
   "execution_count": null,
   "id": "bf93090d",
   "metadata": {},
   "outputs": [],
   "source": []
  }
 ],
 "metadata": {
  "kernelspec": {
   "display_name": "Python 3 (ipykernel)",
   "language": "python",
   "name": "python3"
  },
  "language_info": {
   "codemirror_mode": {
    "name": "ipython",
    "version": 3
   },
   "file_extension": ".py",
   "mimetype": "text/x-python",
   "name": "python",
   "nbconvert_exporter": "python",
   "pygments_lexer": "ipython3",
   "version": "3.9.13"
  }
 },
 "nbformat": 4,
 "nbformat_minor": 5
}
