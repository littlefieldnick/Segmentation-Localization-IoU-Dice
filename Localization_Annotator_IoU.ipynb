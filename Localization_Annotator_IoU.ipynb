{
 "cells": [
  {
   "cell_type": "code",
   "execution_count": null,
   "id": "1d202214",
   "metadata": {},
   "outputs": [],
   "source": [
    "from xml.etree import ElementTree as ET\n",
    "\n",
    "import os\n",
    "import numpy as np"
   ]
  },
  {
   "cell_type": "code",
   "execution_count": null,
   "id": "f2df49c1",
   "metadata": {},
   "outputs": [],
   "source": [
    "def extract_bounding_boxes(xml_file):\n",
    "    # create element tree object\n",
    "    tree = ET.parse(xml_file)\n",
    "  \n",
    "    # get root element\n",
    "    root = tree.getroot()\n",
    "    bbox_xmin = root.findall(\"./object/bndbox/xmin\")[0].text\n",
    "    bbox_ymin = root.findall(\"./object/bndbox/ymin\")[0].text\n",
    "    bbox_xmax = root.findall(\"./object/bndbox/xmax\")[0].text\n",
    "    bbox_ymax = root.findall(\"./object/bndbox/ymax\")[0].text\n",
    "\n",
    "    return int(bbox_xmin), int(bbox_ymin), int(bbox_xmax), int(bbox_ymax)"
   ]
  },
  {
   "cell_type": "code",
   "execution_count": null,
   "id": "f949b4bd",
   "metadata": {},
   "outputs": [],
   "source": [
    "def calc_intersection_area(bbox1_xmin, bbox2_xmin, bbox1_ymin, bbox2_ymin, bbox1_xmax, \n",
    "                           bbox2_xmax, bbox1_ymax, bbox2_ymax):\n",
    "    # determine the (x, y)-coordinates of the intersection rectangle\n",
    "    inter_xMin = max(bbox1_xmin, bbox2_xmin)\n",
    "    inter_yMin = max(bbox1_ymin, bbox2_ymin)\n",
    "    \n",
    "    inter_xMax = min(bbox1_xmax, bbox2_xmax)\n",
    "    inter_yMax = min(bbox1_ymax, bbox2_ymax)\n",
    "\n",
    "    # return the area of intersection rectangle\n",
    "    return max(0, inter_xMax - inter_xMin + 1) * max(0, inter_yMax - inter_yMin + 1)\n"
   ]
  },
  {
   "cell_type": "code",
   "execution_count": null,
   "id": "aae65d80",
   "metadata": {},
   "outputs": [],
   "source": [
    "def process_slices(annot_dir1, annot_dir2):\n",
    "    # Get similar files between two annotators\n",
    "    files_annot1 = [file for file in os.listdir(annot_dir1) if not file.endswith(\".jpg\")]\n",
    "    files_annot2 = [file for file in os.listdir(annot_dir2) if not file.endswith(\".jpg\")]\n",
    "\n",
    "    # Get unique files\n",
    "    files = set(files_annot1).intersection(files_annot2)\n",
    "\n",
    "    iou_scores_per_file = []\n",
    "    for file in files:\n",
    "        xmin_annot1, ymin_annot1, xmax_annot1, ymax_annot1 = extract_bounding_boxes(f\"{annot_dir1}/{file}\")\n",
    "        xmin_annot2, ymin_annot2, xmax_annot2, ymax_annot2 = extract_bounding_boxes(f\"{annot_dir2}/{file}\")\n",
    "    \n",
    "        intersection_area = calc_intersection_area(xmin_annot1, xmin_annot2, ymin_annot1, ymin_annot2, xmax_annot1,\n",
    "                                                  xmax_annot2, ymax_annot1, ymax_annot2)\n",
    "        \n",
    "        annot1_area = (xmax_annot1 - xmin_annot1 + 1) * (ymax_annot1 - ymin_annot1 + 1)\n",
    "        annot2_area = (xmax_annot2 - xmin_annot2 + 1) * (ymax_annot2 - ymin_annot2 + 1)\n",
    "        \n",
    "        iou = intersection_area / (annot1_area + annot2_area - intersection_area)\n",
    "        iou_scores_per_file.append(iou)\n",
    "    return np.mean(iou_scores_per_file)"
   ]
  },
  {
   "cell_type": "code",
   "execution_count": null,
   "id": "2ad931e1",
   "metadata": {},
   "outputs": [],
   "source": [
    "annot1_dir = \"/Users/nicklittlefield/OneDrive - University of Pittsburgh/Dataset_Knee_JointArea_Localization_MRIs/Batch#2/#AnnotatorNumberOne_Ismaeel\"\n",
    "annot2_dir = \"/Users/nicklittlefield/OneDrive - University of Pittsburgh/Dataset_Knee_JointArea_Localization_MRIs/Batch#2/#AnnotatorNumberTwo_Sanyukta\""
   ]
  },
  {
   "cell_type": "code",
   "execution_count": null,
   "id": "21b6a9af",
   "metadata": {},
   "outputs": [],
   "source": [
    "annot1_mri_dirs = os.listdir(annot1_dir)\n",
    "annot2_mri_dirs = os.listdir(annot2_dir)\n",
    "final_mri_dirs = set([mri for mri in annot1_mri_dirs if mri != \".DS_Store\"]).intersection(annot2_mri_dirs)"
   ]
  },
  {
   "cell_type": "code",
   "execution_count": null,
   "id": "a32b3eba",
   "metadata": {
    "scrolled": true
   },
   "outputs": [],
   "source": [
    "ious = []\n",
    "\n",
    "for sag_mri in final_mri_dirs:\n",
    "    annot1 = f\"{annot1_dir}/{sag_mri}\"\n",
    "    annot2 = f\"{annot2_dir}/{sag_mri}\"\n",
    "    \n",
    "    overall_iou = process_slices(annot1, annot2)\n",
    "    ious.append(overall_iou)"
   ]
  },
  {
   "cell_type": "code",
   "execution_count": null,
   "id": "1b56253e",
   "metadata": {},
   "outputs": [],
   "source": [
    "np.mean(ious)"
   ]
  },
  {
   "cell_type": "code",
   "execution_count": null,
   "id": "332236f0",
   "metadata": {},
   "outputs": [],
   "source": []
  }
 ],
 "metadata": {
  "kernelspec": {
   "display_name": "Python 3 (ipykernel)",
   "language": "python",
   "name": "python3"
  },
  "language_info": {
   "codemirror_mode": {
    "name": "ipython",
    "version": 3
   },
   "file_extension": ".py",
   "mimetype": "text/x-python",
   "name": "python",
   "nbconvert_exporter": "python",
   "pygments_lexer": "ipython3",
   "version": "3.9.13"
  }
 },
 "nbformat": 4,
 "nbformat_minor": 5
}
